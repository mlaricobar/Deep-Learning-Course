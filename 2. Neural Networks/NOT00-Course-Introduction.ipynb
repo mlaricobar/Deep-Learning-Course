{
  "nbformat": 4,
  "nbformat_minor": 0,
  "metadata": {
    "colab": {
      "name": "Welcome To Colaboratory",
      "provenance": [],
      "collapsed_sections": [],
      "include_colab_link": true
    },
    "kernelspec": {
      "display_name": "Python 3",
      "name": "python3"
    }
  },
  "cells": [
    {
      "cell_type": "markdown",
      "metadata": {
        "id": "view-in-github",
        "colab_type": "text"
      },
      "source": [
        "<a href=\"https://colab.research.google.com/github/mlaricobar/Deep-Learning-Course/blob/master/NOT00-Course-Introduction.ipynb\" target=\"_parent\"><img src=\"https://colab.research.google.com/assets/colab-badge.svg\" alt=\"Open In Colab\"/></a>"
      ]
    },
    {
      "cell_type": "markdown",
      "metadata": {
        "colab_type": "text",
        "id": "5fCEDCU_qrC0"
      },
      "source": [
        "<p><img alt=\"Colaboratory logo\" height=\"60px\" src=\"https://github.com/mikolarico/course-images/blob/master/Udacity_logo.png?raw=true\" align=\"left\" hspace=\"10px\" vspace=\"0px\"></p>\n",
        "\n",
        "<h1>Program Structure</h1>\n",
        "\n",
        "<br>\n",
        "\n",
        "The Deep Learning Nanodegree program is divided into five parts, giving you a thorough understanding of deep learning, and covering some of the major topics."
      ]
    },
    {
      "cell_type": "markdown",
      "metadata": {
        "id": "LtrPYtWOu5QA",
        "colab_type": "text"
      },
      "source": [
        "---"
      ]
    },
    {
      "cell_type": "markdown",
      "metadata": {
        "id": "7Uwf21ggugeO",
        "colab_type": "text"
      },
      "source": [
        "<h2>Introduction</h2>\n",
        "\n",
        "The first part is an introduction to the program as well as a couple lessons covering tools you'll be using. You'll also get a chance to apply some deep learning models to do cool things like transferring the style of artwork to another image.\n",
        "\n",
        "We’ll start off with a simple introduction to linear regression and machine learning. This will give you the vocabulary you need to understand recent advancements, and make clear where deep learning fits into the broader picture of machine learning techniques."
      ]
    },
    {
      "cell_type": "markdown",
      "metadata": {
        "id": "uQWeVc33u7Uz",
        "colab_type": "text"
      },
      "source": [
        "---"
      ]
    },
    {
      "cell_type": "markdown",
      "metadata": {
        "id": "ySUk3rfmu9BV",
        "colab_type": "text"
      },
      "source": [
        "<h2>Neural Networks</h2>\n",
        "\n",
        "In this part, you'll learn how to build a simple neural network from scratch using python. We'll cover the algorithms used to train networks such as gradient descent and backpropagation.\n",
        "\n",
        "The first project is also available this week. In this project, you'll predict bike ridership using a simple neural network.\n",
        "\n",
        "<img height=\"200px\" src=\"https://github.com/mikolarico/udacity-deep-learning-images/blob/master/multi-layer-neural-network.png?raw=true\" align=\"center\">\n",
        "\n",
        "Multi-layer neural network with some inputs and a single output. Image from [Stanford's cs231n course](http://cs231n.github.io/convolutional-networks/).\n",
        "\n",
        "\n",
        "**Sentiment Analysis**\n",
        "\n",
        "You'll also learn about model evaluation and validation, an important technique for training and assessing neural networks. We also have guest instructor Andrew Trask, author of [Grokking Deep Learning](https://www.manning.com/books/grokking-deep-learning), developing a neural network for processing text and predicting sentiment. The exercises in each chapter of his book are also available in his [Github repository](https://github.com/iamtrask/Grokking-Deep-Learning).\n",
        "\n",
        "\n",
        "**Deep Learning with PyTorch**\n",
        "\n",
        "The last lesson will be all about using the deep learning framework, PyTorch. Here, you'll learn how to use the Tensor datatype, and the foundational knowledge you'll need to define and train your own deep learning models in PyTorch!\n",
        "\n",
        "<img height=\"200px\" src=\"https://github.com/mikolarico/udacity-deep-learning-images/blob/master/pytorch-logo-dark.png?raw=true\" align=\"center\">"
      ]
    },
    {
      "cell_type": "markdown",
      "metadata": {
        "id": "AkD470Rsu85s",
        "colab_type": "text"
      },
      "source": [
        "---"
      ]
    },
    {
      "cell_type": "markdown",
      "metadata": {
        "id": "rDfwgvQfKwTL",
        "colab_type": "text"
      },
      "source": [
        "<h2>Convolutional Networks</h2>\n",
        "\n",
        "Convolutional networks have achieved state of the art results in computer vision. These types of networks can detect and identify objects in images. You'll learn how to build convolutional networks in PyTorch.\n",
        "\n",
        "You'll also get the **second project**, where you'll build a convolutional network to classify dog breeds in pictures.\n",
        "\n",
        "<img height=\"200px\" src=\"https://github.com/mikolarico/udacity-deep-learning-images/blob/master/cnn-network.png?raw=true\" align=\"center\">\n",
        "\n",
        "\n",
        "You'll also use convolutional networks to build an autoencoder, a network architecture used for image compression and denoising. Then, you'll use a pre-trained neural network, to classify images the network has never seen before, a technique known as transfer learning."
      ]
    },
    {
      "cell_type": "markdown",
      "metadata": {
        "id": "ojg-1SCQu8zX",
        "colab_type": "text"
      },
      "source": [
        "---"
      ]
    },
    {
      "cell_type": "markdown",
      "metadata": {
        "id": "6Ie8QUwYMJyI",
        "colab_type": "text"
      },
      "source": [
        "<h2>Recurrent Neural Networks</h2>\n",
        "\n",
        "In this part, you’ll learn about Recurrent Neural Networks (RNNs) — a type of network architecture particularly well suited to data that forms sequences like text, music, and time series data. You'll build a recurrent neural network that can generate new text character by character.\n",
        "\n",
        "\n",
        "<img height=\"200px\" src=\"https://github.com/mikolarico/udacity-deep-learning-images/blob/master/rnn-network.png?raw=true\" align=\"center\">\n",
        "\n",
        "**Natural Language Processing**\n",
        "\n",
        "\n",
        "Then, you'll learn about word embeddings and implement the [Word2Vec](https://en.wikipedia.org/wiki/Word2vec) model, a network that can learn about semantic relationships between words. These are used to increase the efficiency of networks when you're processing text.\n",
        "\n",
        "You'll combine embeddings and an RNN to predict the sentiment of movie reviews, an example of common tasks in natural language processing.\n",
        "\n",
        "In the **third project**, you'll use what you've learned here to generate new TV scripts from provided, existing scripts.\n",
        "\n",
        "\n",
        "<img height=\"200px\" src=\"https://github.com/mikolarico/udacity-deep-learning-images/blob/master/rnn-nlp.png?raw=true\" align=\"center\">\n",
        "\n",
        "An example RNN structure in which an encoder represents the question: \"how are you?\" and a decoder generates the answer: \"I am good\""
      ]
    },
    {
      "cell_type": "markdown",
      "metadata": {
        "id": "e6XVLwvtPFDN",
        "colab_type": "text"
      },
      "source": [
        "---"
      ]
    },
    {
      "cell_type": "markdown",
      "metadata": {
        "id": "C-QRLf68PE8R",
        "colab_type": "text"
      },
      "source": [
        "<h2>Generative Adversarial Networks</h2>\n",
        "\n",
        "Generative adversarial networks (GANs) are one of the newest and most exciting deep learning architectures, showing incredible capacity for understanding real-world data. In this part, you'll learn about and implement GANs for a variety of tasks. You'll even see how to code a [CycleGAN](https://github.com/junyanz/CycleGAN) for generating images, and learn from one of the creators of this formulation, Jun-Yan Zhu, a researcher at [MIT's CSAIL](https://www.csail.mit.edu/).\n",
        "\n",
        "<img height=\"200px\" src=\"https://github.com/mikolarico/udacity-deep-learning-images/blob/master/gan-examples.png?raw=true\" align=\"center\">\n",
        "\n",
        "Examples of image-to-image translation done by [CycleGAN and Pix2Pix](https://github.com/junyanz/pytorch-CycleGAN-and-pix2pix) formulations.\n",
        "\n",
        "The inventor of GANs, Ian Goodfellow, will show you how GANs work and how to implement them. Then, in the **fourth project**, you'll use a deep convolutional GAN to generate completely new images of human faces.\n",
        "\n",
        "<img height=\"200px\" src=\"https://github.com/mikolarico/udacity-deep-learning-images/blob/master/gan-faces.png?raw=true\" align=\"center\">\n",
        "\n",
        "Low-res, GAN-generated images of faces.\n"
      ]
    },
    {
      "cell_type": "markdown",
      "metadata": {
        "id": "HQburZ28RIKy",
        "colab_type": "text"
      },
      "source": [
        "---"
      ]
    },
    {
      "cell_type": "markdown",
      "metadata": {
        "id": "TXkPM79SRIEC",
        "colab_type": "text"
      },
      "source": [
        "<h2>Deploying Machine Learning Models</h2>\n",
        "\n",
        "As more and more companies look to build AI products, there is a growing demand for engineers who are able to deploy machine learning models to global audiences. In this part, you’ll get experience deploying a model so that it can be accessed via a web app and respond to user input.\n",
        "\n",
        "<img height=\"200px\" src=\"https://github.com/mikolarico/udacity-deep-learning-images/blob/master/deep-learning-deployment.png?raw=true\" align=\"center\">\n",
        "Image of a cloud service connecting data to a laptop.\n",
        "\n",
        "You'll also learn to monitor a model using PyTorch and [Amazon's SageMaker](https://aws.amazon.com/sagemaker/). In the **fifth project**, you will deploy your own PyTorch sentiment analysis model and create a gateway for accessing this model from a website."
      ]
    },
    {
      "cell_type": "markdown",
      "metadata": {
        "id": "O9u_2SfITvp6",
        "colab_type": "text"
      },
      "source": [
        "---"
      ]
    },
    {
      "cell_type": "markdown",
      "metadata": {
        "id": "Zfjj5UYoTvnQ",
        "colab_type": "text"
      },
      "source": [
        "<h2>Projects You Will Build</h2>\n",
        "\n",
        "\n",
        "The five projects you'll complete in this course are perhaps the most important part of your learning journey. They give you the chance to apply what you've learned and even share your work with friends or potential employers! These projects are designed to be challenging and interesting, as such, you may not always pass on the first attempt, but, if you are enrolled in our complete program, you will get feedback from a real person; a Udacity reviewer. This reviewer will help you figure out what could be improved in your code and you can submit your code again until you pass the project.\n",
        "\n",
        "Here are the five projects, listed for convenience:\n",
        "\n",
        "\n",
        "\n",
        "1.   Predicting Bike-Sharing Data\n",
        "2.   Dog Breed Classifier\n",
        "3.   Generate TV Scripts\n",
        "4.   Generate Faces\n",
        "5.   Deploy a Sentiment Analysis Model\n",
        "\n",
        "You are also encouraged to keep a public portfolio of completed project code on a personal Github or write a blog posts about your problem-solving approach.\n",
        "\n",
        "<h2>Deadlines</h2>\n",
        "\n",
        "We provide deadlines for these projects to help you stay on track. You will find these deadlines posted in the classroom. The deadlines aren't mandatory, and there are no consequences for missing them. But, do try to stick to them so you complete the program in time.\n"
      ]
    }
  ]
}